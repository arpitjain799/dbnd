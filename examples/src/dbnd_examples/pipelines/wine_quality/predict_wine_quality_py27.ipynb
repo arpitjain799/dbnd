{
 "cells": [
  {
   "cell_type": "code",
   "execution_count": null,
   "metadata": {},
   "outputs": [],
   "source": [
    " \n",
    "from dbnd_examples.data import data_repo\n",
    "from dbnd import band, task, output, log_metric, project_path, get_databand_context\n",
    "from dbnd_examples.pipelines.wine_quality.wine_quality_classes import PredictWineQuality, ValidateModel, PrepareData"
   ]
  },
  {
   "cell_type": "code",
   "execution_count": null,
   "metadata": {},
   "outputs": [],
   "source": [
    "#execute full pipeline\n",
    "wine = PredictWineQuality()\n",
    "wine.dbnd_run()"
   ]
  },
  {
   "cell_type": "code",
   "execution_count": null,
   "metadata": {},
   "outputs": [],
   "source": [
    "#now, we do not run anything\n",
    "wine.dbnd_run()"
   ]
  },
  {
   "cell_type": "code",
   "execution_count": null,
   "metadata": {},
   "outputs": [],
   "source": [
    "#now we do not running anything again\n",
    "wine = PredictWineQuality()\n",
    "wine.dbnd_run()"
   ]
  },
  {
   "cell_type": "code",
   "execution_count": null,
   "metadata": {
    "scrolled": true
   },
   "outputs": [],
   "source": [
    "#run pipeline with defferent data\n",
    "wine = PredictWineQuality(alpha=0.4, data=data_repo.wines_parquet_py27)\n",
    "wine.dbnd_run()"
   ]
  },
  {
   "cell_type": "code",
   "execution_count": null,
   "metadata": {},
   "outputs": [],
   "source": [
    "#inject another input to spesific task within a pipeline\n",
    "wine = PredictWineQuality(\n",
    "    override={\n",
    "            ValidateModel.validation_dataset: data_repo.wines_full,\n",
    "            PredictWineQuality.alpha: 0.7\n",
    "        }\n",
    ")\n",
    "get_databand_context().set_current(\"my experiment #2\", \"running validation with external data\")\n",
    "wine.dbnd_run()\n"
   ]
  },
  {
   "cell_type": "code",
   "execution_count": null,
   "metadata": {
    "scrolled": true
   },
   "outputs": [],
   "source": [
    "wine.validation.read_df().head()"
   ]
  }
 ],
 "metadata": {
  "kernelspec": {
   "display_name": "Python 2",
   "language": "python",
   "name": "python2"
  },
  "language_info": {
   "codemirror_mode": {
    "name": "ipython",
    "version": 2
   },
   "file_extension": ".py",
   "mimetype": "text/x-python",
   "name": "python",
   "nbconvert_exporter": "python",
   "pygments_lexer": "ipython2",
   "version": "2.7.13"
  },
  "pycharm": {
   "stem_cell": {
    "cell_type": "raw",
    "source": [],
    "metadata": {
     "collapsed": false
    }
   }
  }
 },
 "nbformat": 4,
 "nbformat_minor": 2
}
